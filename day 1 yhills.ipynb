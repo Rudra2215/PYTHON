{
 "cells": [
  {
   "cell_type": "code",
   "execution_count": 1,
   "id": "1eec4f1a",
   "metadata": {},
   "outputs": [
    {
     "name": "stdout",
     "output_type": "stream",
     "text": [
      "Hellow world\n"
     ]
    }
   ],
   "source": [
    "print(\"Hellow world\")"
   ]
  },
  {
   "cell_type": "code",
   "execution_count": 2,
   "id": "f3e12b6d",
   "metadata": {},
   "outputs": [
    {
     "name": "stdout",
     "output_type": "stream",
     "text": [
      "Rudra Pranav\n"
     ]
    }
   ],
   "source": [
    "print(\"Rudra Pranav\")"
   ]
  },
  {
   "cell_type": "code",
   "execution_count": 3,
   "id": "8e9ff2ad",
   "metadata": {},
   "outputs": [
    {
     "ename": "NameError",
     "evalue": "name 'Print' is not defined",
     "output_type": "error",
     "traceback": [
      "\u001b[1;31m---------------------------------------------------------------------------\u001b[0m",
      "\u001b[1;31mNameError\u001b[0m                                 Traceback (most recent call last)",
      "\u001b[1;32mC:\\Users\\RUDRAP~1\\AppData\\Local\\Temp/ipykernel_19572/1347419302.py\u001b[0m in \u001b[0;36m<module>\u001b[1;34m\u001b[0m\n\u001b[1;32m----> 1\u001b[1;33m \u001b[0mPrint\u001b[0m\u001b[1;33m(\u001b[0m\u001b[1;34m\"hellow world\"\u001b[0m\u001b[1;33m)\u001b[0m\u001b[1;33m\u001b[0m\u001b[1;33m\u001b[0m\u001b[0m\n\u001b[0m",
      "\u001b[1;31mNameError\u001b[0m: name 'Print' is not defined"
     ]
    }
   ],
   "source": [
    "Print(\"hellow world\")"
   ]
  },
  {
   "cell_type": "code",
   "execution_count": null,
   "id": "97d34344",
   "metadata": {},
   "outputs": [],
   "source": [
    "### It should be print not Print"
   ]
  },
  {
   "cell_type": "markdown",
   "id": "73f88be1",
   "metadata": {},
   "source": [
    "###it should be print not Print"
   ]
  },
  {
   "cell_type": "markdown",
   "id": "ceab31b0",
   "metadata": {},
   "source": [
    "####it should be print not Print"
   ]
  },
  {
   "cell_type": "markdown",
   "id": "1a41f1b3",
   "metadata": {},
   "source": [
    "#### It should be print not Print"
   ]
  },
  {
   "cell_type": "markdown",
   "id": "79cb77ec",
   "metadata": {},
   "source": [
    "##### It should be print not Print"
   ]
  },
  {
   "cell_type": "markdown",
   "id": "aef43f28",
   "metadata": {},
   "source": [
    "## It shbould be print not Print"
   ]
  },
  {
   "cell_type": "code",
   "execution_count": 5,
   "id": "267534db",
   "metadata": {},
   "outputs": [
    {
     "name": "stdout",
     "output_type": "stream",
     "text": [
      "Welcome to the analytical course\n"
     ]
    }
   ],
   "source": [
    "print(\"Welcome to the analytical course\")"
   ]
  },
  {
   "cell_type": "markdown",
   "id": "297e17eb",
   "metadata": {},
   "source": [
    "### Data Types "
   ]
  },
  {
   "cell_type": "code",
   "execution_count": 8,
   "id": "7b8e397e",
   "metadata": {},
   "outputs": [
    {
     "name": "stdout",
     "output_type": "stream",
     "text": [
      "100\n"
     ]
    }
   ],
   "source": [
    "x=100 \n",
    "print(x)"
   ]
  },
  {
   "cell_type": "code",
   "execution_count": 7,
   "id": "5d7175e6",
   "metadata": {},
   "outputs": [
    {
     "data": {
      "text/plain": [
       "100"
      ]
     },
     "execution_count": 7,
     "metadata": {},
     "output_type": "execute_result"
    }
   ],
   "source": [
    "x=100\n",
    "x"
   ]
  },
  {
   "cell_type": "code",
   "execution_count": 9,
   "id": "64364cf6",
   "metadata": {},
   "outputs": [
    {
     "data": {
      "text/plain": [
       "int"
      ]
     },
     "execution_count": 9,
     "metadata": {},
     "output_type": "execute_result"
    }
   ],
   "source": [
    "type(x)"
   ]
  },
  {
   "cell_type": "code",
   "execution_count": 14,
   "id": "d58c37e7",
   "metadata": {},
   "outputs": [
    {
     "data": {
      "text/plain": [
       "float"
      ]
     },
     "execution_count": 14,
     "metadata": {},
     "output_type": "execute_result"
    }
   ],
   "source": [
    "g=112.76\n",
    "type(g)"
   ]
  },
  {
   "cell_type": "code",
   "execution_count": 11,
   "id": "e5005850",
   "metadata": {},
   "outputs": [
    {
     "data": {
      "text/plain": [
       "str"
      ]
     },
     "execution_count": 11,
     "metadata": {},
     "output_type": "execute_result"
    }
   ],
   "source": [
    "course=\"Analytics\"\n",
    "type(course)"
   ]
  },
  {
   "cell_type": "code",
   "execution_count": 12,
   "id": "0d454d98",
   "metadata": {},
   "outputs": [
    {
     "data": {
      "text/plain": [
       "str"
      ]
     },
     "execution_count": 12,
     "metadata": {},
     "output_type": "execute_result"
    }
   ],
   "source": [
    "cuorse='Analytics'\n",
    "type(course)"
   ]
  },
  {
   "cell_type": "code",
   "execution_count": 13,
   "id": "50e9033c",
   "metadata": {},
   "outputs": [
    {
     "ename": "NameError",
     "evalue": "name 'Analytics' is not defined",
     "output_type": "error",
     "traceback": [
      "\u001b[1;31m---------------------------------------------------------------------------\u001b[0m",
      "\u001b[1;31mNameError\u001b[0m                                 Traceback (most recent call last)",
      "\u001b[1;32mC:\\Users\\RUDRAP~1\\AppData\\Local\\Temp/ipykernel_19572/1988916482.py\u001b[0m in \u001b[0;36m<module>\u001b[1;34m\u001b[0m\n\u001b[1;32m----> 1\u001b[1;33m \u001b[0mcourse\u001b[0m\u001b[1;33m=\u001b[0m\u001b[0mAnalytics\u001b[0m\u001b[1;33m\u001b[0m\u001b[1;33m\u001b[0m\u001b[0m\n\u001b[0m",
      "\u001b[1;31mNameError\u001b[0m: name 'Analytics' is not defined"
     ]
    }
   ],
   "source": [
    "course=Analytics"
   ]
  },
  {
   "cell_type": "markdown",
   "id": "bd473c0d",
   "metadata": {},
   "source": [
    "### String should be in double or single inverted comma"
   ]
  },
  {
   "cell_type": "code",
   "execution_count": 15,
   "id": "d9c7cf7a",
   "metadata": {},
   "outputs": [
    {
     "data": {
      "text/plain": [
       "bool"
      ]
     },
     "execution_count": 15,
     "metadata": {},
     "output_type": "execute_result"
    }
   ],
   "source": [
    "z=True\n",
    "type(z)"
   ]
  },
  {
   "cell_type": "code",
   "execution_count": 16,
   "id": "0831a3a6",
   "metadata": {},
   "outputs": [
    {
     "data": {
      "text/plain": [
       "bool"
      ]
     },
     "execution_count": 16,
     "metadata": {},
     "output_type": "execute_result"
    }
   ],
   "source": [
    "z=False\n",
    "type(z)"
   ]
  },
  {
   "cell_type": "code",
   "execution_count": 18,
   "id": "e94d4065",
   "metadata": {},
   "outputs": [
    {
     "data": {
      "text/plain": [
       "str"
      ]
     },
     "execution_count": 18,
     "metadata": {},
     "output_type": "execute_result"
    }
   ],
   "source": [
    "z=\"true\"\n",
    "type(z)"
   ]
  },
  {
   "cell_type": "markdown",
   "id": "dbb5b364",
   "metadata": {},
   "source": [
    "#### 1. No decimal points-Integers\n",
    "#### 2. No decimal points- Float\n",
    "#### 3. Text-String(and it should be in inverted commas)\n",
    "#### 4. true/ False-Bool"
   ]
  },
  {
   "cell_type": "code",
   "execution_count": 21,
   "id": "fab4a391",
   "metadata": {},
   "outputs": [
    {
     "data": {
      "text/plain": [
       "('latta', 'Abhinav', 'Rudra', 'Rishvi')"
      ]
     },
     "execution_count": 21,
     "metadata": {},
     "output_type": "execute_result"
    }
   ],
   "source": [
    "name_list=\"latta\",\"Abhinav\",\"Rudra\",\"Rishvi\"\n",
    "name_list"
   ]
  },
  {
   "cell_type": "code",
   "execution_count": 22,
   "id": "8a7df0b3",
   "metadata": {},
   "outputs": [
    {
     "data": {
      "text/plain": [
       "('latta', 'Abhinav', 'Rudra', 'Rishvi')"
      ]
     },
     "execution_count": 22,
     "metadata": {},
     "output_type": "execute_result"
    }
   ],
   "source": [
    "Name_list=\"latta\",\"Abhinav\",\"Rudra\",\"Rishvi\"\n",
    "Name_list"
   ]
  },
  {
   "cell_type": "code",
   "execution_count": 23,
   "id": "61574857",
   "metadata": {},
   "outputs": [
    {
     "data": {
      "text/plain": [
       "('latta', 'Abhinav', 'Rudra', 'Rishvi')"
      ]
     },
     "execution_count": 23,
     "metadata": {},
     "output_type": "execute_result"
    }
   ],
   "source": [
    "namelist=\"latta\",\"Abhinav\",\"Rudra\",\"Rishvi\"\n",
    "namelist"
   ]
  },
  {
   "cell_type": "code",
   "execution_count": 24,
   "id": "5c316588",
   "metadata": {},
   "outputs": [
    {
     "ename": "SyntaxError",
     "evalue": "invalid syntax (Temp/ipykernel_19572/528528682.py, line 1)",
     "output_type": "error",
     "traceback": [
      "\u001b[1;36m  File \u001b[1;32m\"C:\\Users\\RUDRAP~1\\AppData\\Local\\Temp/ipykernel_19572/528528682.py\"\u001b[1;36m, line \u001b[1;32m1\u001b[0m\n\u001b[1;33m    4namelist=\"latta\",\"Abhinav\",\"Rudra\",\"Rishvi\"\u001b[0m\n\u001b[1;37m     ^\u001b[0m\n\u001b[1;31mSyntaxError\u001b[0m\u001b[1;31m:\u001b[0m invalid syntax\n"
     ]
    }
   ],
   "source": [
    "4namelist=\"latta\",\"Abhinav\",\"Rudra\",\"Rishvi\"\n",
    "4namelist"
   ]
  },
  {
   "cell_type": "code",
   "execution_count": 25,
   "id": "23cbd192",
   "metadata": {},
   "outputs": [
    {
     "data": {
      "text/plain": [
       "('latta', 'Abhinav', 'Rudra', 'Rishvi')"
      ]
     },
     "execution_count": 25,
     "metadata": {},
     "output_type": "execute_result"
    }
   ],
   "source": [
    "n4ame_list=\"latta\",\"Abhinav\",\"Rudra\",\"Rishvi\"\n",
    "n4ame_list"
   ]
  },
  {
   "cell_type": "code",
   "execution_count": 26,
   "id": "0447767b",
   "metadata": {},
   "outputs": [
    {
     "ename": "SyntaxError",
     "evalue": "invalid syntax (Temp/ipykernel_19572/1282211589.py, line 1)",
     "output_type": "error",
     "traceback": [
      "\u001b[1;36m  File \u001b[1;32m\"C:\\Users\\RUDRAP~1\\AppData\\Local\\Temp/ipykernel_19572/1282211589.py\"\u001b[1;36m, line \u001b[1;32m1\u001b[0m\n\u001b[1;33m    name list=\"latta\",\"Abhinav\",\"Rudra\",\"Rishvi\"\u001b[0m\n\u001b[1;37m         ^\u001b[0m\n\u001b[1;31mSyntaxError\u001b[0m\u001b[1;31m:\u001b[0m invalid syntax\n"
     ]
    }
   ],
   "source": [
    "name list=\"latta\",\"Abhinav\",\"Rudra\",\"Rishvi\"\n",
    "name list"
   ]
  },
  {
   "cell_type": "code",
   "execution_count": 27,
   "id": "e009999c",
   "metadata": {},
   "outputs": [
    {
     "ename": "SyntaxError",
     "evalue": "cannot assign to operator (Temp/ipykernel_19572/2813892550.py, line 1)",
     "output_type": "error",
     "traceback": [
      "\u001b[1;36m  File \u001b[1;32m\"C:\\Users\\RUDRAP~1\\AppData\\Local\\Temp/ipykernel_19572/2813892550.py\"\u001b[1;36m, line \u001b[1;32m1\u001b[0m\n\u001b[1;33m    name+list=\"latta\",\"Abhinav\",\"Rudra\",\"Rishvi\"\u001b[0m\n\u001b[1;37m    ^\u001b[0m\n\u001b[1;31mSyntaxError\u001b[0m\u001b[1;31m:\u001b[0m cannot assign to operator\n"
     ]
    }
   ],
   "source": [
    "name+list=\"latta\",\"Abhinav\",\"Rudra\",\"Rishvi\"\n",
    "name+list"
   ]
  },
  {
   "cell_type": "code",
   "execution_count": 28,
   "id": "532f7f48",
   "metadata": {},
   "outputs": [
    {
     "ename": "SyntaxError",
     "evalue": "cannot assign to operator (Temp/ipykernel_19572/3403450525.py, line 1)",
     "output_type": "error",
     "traceback": [
      "\u001b[1;36m  File \u001b[1;32m\"C:\\Users\\RUDRAP~1\\AppData\\Local\\Temp/ipykernel_19572/3403450525.py\"\u001b[1;36m, line \u001b[1;32m1\u001b[0m\n\u001b[1;33m    name-list=\"latta\",\"Abhinav\",\"Rudra\",\"Rishvi\"\u001b[0m\n\u001b[1;37m    ^\u001b[0m\n\u001b[1;31mSyntaxError\u001b[0m\u001b[1;31m:\u001b[0m cannot assign to operator\n"
     ]
    }
   ],
   "source": [
    "name-list=\"latta\",\"Abhinav\",\"Rudra\",\"Rishvi\"\n",
    "name-list"
   ]
  },
  {
   "cell_type": "code",
   "execution_count": 29,
   "id": "c30cd15d",
   "metadata": {},
   "outputs": [
    {
     "ename": "NameError",
     "evalue": "name 'NAME_list' is not defined",
     "output_type": "error",
     "traceback": [
      "\u001b[1;31m---------------------------------------------------------------------------\u001b[0m",
      "\u001b[1;31mNameError\u001b[0m                                 Traceback (most recent call last)",
      "\u001b[1;32mC:\\Users\\RUDRAP~1\\AppData\\Local\\Temp/ipykernel_19572/1370463183.py\u001b[0m in \u001b[0;36m<module>\u001b[1;34m\u001b[0m\n\u001b[0;32m      1\u001b[0m \u001b[0mname_list\u001b[0m\u001b[1;33m=\u001b[0m\u001b[1;34m\"latta\"\u001b[0m\u001b[1;33m,\u001b[0m\u001b[1;34m\"Abhinav\"\u001b[0m\u001b[1;33m,\u001b[0m\u001b[1;34m\"Rudra\"\u001b[0m\u001b[1;33m,\u001b[0m\u001b[1;34m\"Rishvi\"\u001b[0m\u001b[1;33m\u001b[0m\u001b[1;33m\u001b[0m\u001b[0m\n\u001b[1;32m----> 2\u001b[1;33m \u001b[0mNAME_list\u001b[0m\u001b[1;33m\u001b[0m\u001b[1;33m\u001b[0m\u001b[0m\n\u001b[0m",
      "\u001b[1;31mNameError\u001b[0m: name 'NAME_list' is not defined"
     ]
    }
   ],
   "source": [
    "name_list=\"latta\",\"Abhinav\",\"Rudra\",\"Rishvi\"\n",
    "NAME_list"
   ]
  },
  {
   "cell_type": "markdown",
   "id": "d1104a17",
   "metadata": {},
   "source": [
    "##### 1.Variable name should start with A-Z, a-z, or underscore(_)\n",
    "##### 2.Variable name should not start with a number\n",
    "##### 3.Space is not allowed\n",
    "##### 4.Only allowed spl charector is underscore\n",
    "##### 5.Case sensive"
   ]
  },
  {
   "cell_type": "markdown",
   "id": "52135dc6",
   "metadata": {},
   "source": [
    "### Data structures"
   ]
  },
  {
   "cell_type": "code",
   "execution_count": null,
   "id": "e53f4b8f",
   "metadata": {},
   "outputs": [],
   "source": []
  }
 ],
 "metadata": {
  "kernelspec": {
   "display_name": "Python 3 (ipykernel)",
   "language": "python",
   "name": "python3"
  },
  "language_info": {
   "codemirror_mode": {
    "name": "ipython",
    "version": 3
   },
   "file_extension": ".py",
   "mimetype": "text/x-python",
   "name": "python",
   "nbconvert_exporter": "python",
   "pygments_lexer": "ipython3",
   "version": "3.9.7"
  }
 },
 "nbformat": 4,
 "nbformat_minor": 5
}
